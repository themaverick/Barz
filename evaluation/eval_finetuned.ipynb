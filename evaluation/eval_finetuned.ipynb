{
 "cells": [
  {
   "cell_type": "code",
   "execution_count": 1,
   "id": "cd828466",
   "metadata": {},
   "outputs": [],
   "source": [
    "import json\n",
    "import os\n",
    "from dotenv import load_dotenv"
   ]
  },
  {
   "cell_type": "code",
   "execution_count": 2,
   "id": "48c6ecd2",
   "metadata": {},
   "outputs": [
    {
     "data": {
      "text/plain": [
       "True"
      ]
     },
     "execution_count": 2,
     "metadata": {},
     "output_type": "execute_result"
    }
   ],
   "source": [
    "load_dotenv()"
   ]
  },
  {
   "cell_type": "code",
   "execution_count": 3,
   "id": "e35f8c72",
   "metadata": {},
   "outputs": [],
   "source": [
    "os.environ[\"OPENAI_API_KEY\"] = os.getenv(\"OPENAI_API_KEY\")"
   ]
  },
  {
   "cell_type": "code",
   "execution_count": 4,
   "id": "895a1cfc",
   "metadata": {},
   "outputs": [],
   "source": [
    "from ragas.llms import LangchainLLMWrapper\n",
    "from ragas.embeddings import LangchainEmbeddingsWrapper\n",
    "from langchain_openai import ChatOpenAI\n",
    "from langchain_openai import OpenAIEmbeddings"
   ]
  },
  {
   "cell_type": "code",
   "execution_count": 5,
   "id": "c796f1b6",
   "metadata": {},
   "outputs": [],
   "source": [
    "evaluator_llm = LangchainLLMWrapper(ChatOpenAI(model=\"gpt-4o-mini\"))\n",
    "evaluator_embeddings = LangchainEmbeddingsWrapper(OpenAIEmbeddings())"
   ]
  },
  {
   "cell_type": "code",
   "execution_count": 6,
   "id": "48a8db5e",
   "metadata": {},
   "outputs": [],
   "source": [
    "from ragas.metrics import SemanticSimilarity, BleuScore, RougeScore, SemanticSimilarity\n",
    "from ragas.dataset_schema import SingleTurnSample\n",
    "from ragas.embeddings import LangchainEmbeddingsWrapper\n",
    "from ragas.metrics._factual_correctness import FactualCorrectness"
   ]
  },
  {
   "cell_type": "code",
   "execution_count": 7,
   "id": "f8ca5af6",
   "metadata": {},
   "outputs": [],
   "source": [
    "from datasets import load_dataset, Dataset\n",
    "from ragas import EvaluationDataset"
   ]
  },
  {
   "cell_type": "code",
   "execution_count": 8,
   "id": "c7bdce8f",
   "metadata": {},
   "outputs": [],
   "source": [
    "with open('../dataset/eval_dset_finetuned.json', 'r') as f:\n",
    "  eval_dset = json.load(f)"
   ]
  },
  {
   "cell_type": "code",
   "execution_count": 9,
   "id": "73ac2dd0",
   "metadata": {},
   "outputs": [
    {
     "data": {
      "text/plain": [
       "dict_keys(['input', 'reference', 'prediction'])"
      ]
     },
     "execution_count": 9,
     "metadata": {},
     "output_type": "execute_result"
    }
   ],
   "source": [
    "eval_dset[0].keys()"
   ]
  },
  {
   "cell_type": "code",
   "execution_count": 10,
   "id": "26fdab8b",
   "metadata": {},
   "outputs": [],
   "source": [
    "key_map = {\"prediction\": \"response\", \n",
    "           \"reference\": \"reference\"}\n",
    "\n",
    "ragas_dset = [\n",
    "    {key_map[k]: v for k, v in item.items() if k in key_map.keys()}\n",
    "    for item in eval_dset\n",
    "]\n"
   ]
  },
  {
   "cell_type": "code",
   "execution_count": 11,
   "id": "4f10e8fb",
   "metadata": {},
   "outputs": [],
   "source": [
    "dataset = Dataset.from_list(ragas_dset)"
   ]
  },
  {
   "cell_type": "code",
   "execution_count": 12,
   "id": "071aefc6",
   "metadata": {},
   "outputs": [
    {
     "data": {
      "text/plain": [
       "Dataset({\n",
       "    features: ['reference', 'response'],\n",
       "    num_rows: 300\n",
       "})"
      ]
     },
     "execution_count": 12,
     "metadata": {},
     "output_type": "execute_result"
    }
   ],
   "source": [
    "dataset"
   ]
  },
  {
   "cell_type": "code",
   "execution_count": 13,
   "id": "aac1ba89",
   "metadata": {},
   "outputs": [
    {
     "data": {
      "text/plain": [
       "['response', 'reference']"
      ]
     },
     "execution_count": 13,
     "metadata": {},
     "output_type": "execute_result"
    }
   ],
   "source": [
    "eval_dataset = EvaluationDataset.from_hf_dataset(dataset)\n",
    "\n",
    "eval_dataset.features()"
   ]
  },
  {
   "cell_type": "code",
   "execution_count": 14,
   "id": "495ab7e3",
   "metadata": {},
   "outputs": [
    {
     "data": {
      "text/plain": [
       "EvaluationDataset(features=['response', 'reference'], len=300)"
      ]
     },
     "execution_count": 14,
     "metadata": {},
     "output_type": "execute_result"
    }
   ],
   "source": [
    "eval_dataset[:500]"
   ]
  },
  {
   "cell_type": "code",
   "execution_count": 15,
   "id": "1a2adf9c",
   "metadata": {},
   "outputs": [],
   "source": [
    "from ragas import evaluate"
   ]
  },
  {
   "cell_type": "code",
   "execution_count": 16,
   "id": "0fef4ea9",
   "metadata": {},
   "outputs": [],
   "source": [
    "metric1 = FactualCorrectness(llm = evaluator_llm)\n",
    "metric2 = BleuScore()\n",
    "metric3 = RougeScore()\n",
    "metric4 = SemanticSimilarity()"
   ]
  },
  {
   "cell_type": "code",
   "execution_count": 18,
   "id": "8d84cb97",
   "metadata": {},
   "outputs": [
    {
     "data": {
      "application/vnd.jupyter.widget-view+json": {
       "model_id": "82a30d45e6b24227955fe3a5187be6e1",
       "version_major": 2,
       "version_minor": 0
      },
      "text/plain": [
       "Evaluating:   0%|          | 0/1200 [00:00<?, ?it/s]"
      ]
     },
     "metadata": {},
     "output_type": "display_data"
    }
   ],
   "source": [
    "results = evaluate(eval_dataset, metrics = [metric1, metric2, metric3, metric4])\n",
    "\n",
    "results.to_pandas().to_csv(path_or_buf=  \"../results/data/finetuned.csv\", index = False)"
   ]
  },
  {
   "cell_type": "code",
   "execution_count": 19,
   "id": "a4a577f1",
   "metadata": {},
   "outputs": [
    {
     "data": {
      "text/html": [
       "<div>\n",
       "<style scoped>\n",
       "    .dataframe tbody tr th:only-of-type {\n",
       "        vertical-align: middle;\n",
       "    }\n",
       "\n",
       "    .dataframe tbody tr th {\n",
       "        vertical-align: top;\n",
       "    }\n",
       "\n",
       "    .dataframe thead th {\n",
       "        text-align: right;\n",
       "    }\n",
       "</style>\n",
       "<table border=\"1\" class=\"dataframe\">\n",
       "  <thead>\n",
       "    <tr style=\"text-align: right;\">\n",
       "      <th></th>\n",
       "      <th>response</th>\n",
       "      <th>reference</th>\n",
       "      <th>factual_correctness(mode=f1)</th>\n",
       "      <th>bleu_score</th>\n",
       "      <th>rouge_score(mode=fmeasure)</th>\n",
       "      <th>semantic_similarity</th>\n",
       "    </tr>\n",
       "  </thead>\n",
       "  <tbody>\n",
       "    <tr>\n",
       "      <th>0</th>\n",
       "      <td>\\nDrake has a long history of conflicts. Chris...</td>\n",
       "      <td>Drake has a long history of conflicts. Chris B...</td>\n",
       "      <td>1.00</td>\n",
       "      <td>1.000000</td>\n",
       "      <td>0.793750</td>\n",
       "      <td>0.977184</td>\n",
       "    </tr>\n",
       "    <tr>\n",
       "      <th>1</th>\n",
       "      <td>\\nMeek has been fighting off tensions between ...</td>\n",
       "      <td>Although Drake squashed his major beef​, he’s ...</td>\n",
       "      <td>0.00</td>\n",
       "      <td>0.014712</td>\n",
       "      <td>0.091954</td>\n",
       "      <td>0.839520</td>\n",
       "    </tr>\n",
       "    <tr>\n",
       "      <th>2</th>\n",
       "      <td>\\nDrake doesn’t want to be a booty call in the...</td>\n",
       "      <td>Drake doesn’t want to be a booty call in the m...</td>\n",
       "      <td>1.00</td>\n",
       "      <td>1.000000</td>\n",
       "      <td>1.000000</td>\n",
       "      <td>0.998880</td>\n",
       "    </tr>\n",
       "    <tr>\n",
       "      <th>3</th>\n",
       "      <td>\\nDrake is referencing how the general public ...</td>\n",
       "      <td>Drake is referencing how the general public co...</td>\n",
       "      <td>1.00</td>\n",
       "      <td>1.000000</td>\n",
       "      <td>1.000000</td>\n",
       "      <td>0.999034</td>\n",
       "    </tr>\n",
       "    <tr>\n",
       "      <th>4</th>\n",
       "      <td>\\nDrake may be referring to his late OVO affil...</td>\n",
       "      <td>Drake may be referring to his late OVO affilia...</td>\n",
       "      <td>0.22</td>\n",
       "      <td>1.000000</td>\n",
       "      <td>0.201493</td>\n",
       "      <td>0.883299</td>\n",
       "    </tr>\n",
       "    <tr>\n",
       "      <th>...</th>\n",
       "      <td>...</td>\n",
       "      <td>...</td>\n",
       "      <td>...</td>\n",
       "      <td>...</td>\n",
       "      <td>...</td>\n",
       "      <td>...</td>\n",
       "    </tr>\n",
       "    <tr>\n",
       "      <th>295</th>\n",
       "      <td>\\nThe bumper is the trim around the wheels of ...</td>\n",
       "      <td>This line is straight from Popcaan’s 2014 song...</td>\n",
       "      <td>0.00</td>\n",
       "      <td>0.000182</td>\n",
       "      <td>0.149733</td>\n",
       "      <td>0.857132</td>\n",
       "    </tr>\n",
       "    <tr>\n",
       "      <th>296</th>\n",
       "      <td>\\nDrake’s former girlfriend has been with anot...</td>\n",
       "      <td>Drake knows this girl has another man she’s se...</td>\n",
       "      <td>0.17</td>\n",
       "      <td>0.003824</td>\n",
       "      <td>0.168421</td>\n",
       "      <td>0.916183</td>\n",
       "    </tr>\n",
       "    <tr>\n",
       "      <th>297</th>\n",
       "      <td>\\nDrake wants to fix their relationship, so he...</td>\n",
       "      <td>The things Drake wants from the relationship a...</td>\n",
       "      <td>0.00</td>\n",
       "      <td>0.079559</td>\n",
       "      <td>0.240000</td>\n",
       "      <td>0.868439</td>\n",
       "    </tr>\n",
       "    <tr>\n",
       "      <th>298</th>\n",
       "      <td>\\nInstead of allowing Rihanna to have her say ...</td>\n",
       "      <td>Despite all the points Drizzy has made about h...</td>\n",
       "      <td>0.17</td>\n",
       "      <td>0.007284</td>\n",
       "      <td>0.217391</td>\n",
       "      <td>0.873039</td>\n",
       "    </tr>\n",
       "    <tr>\n",
       "      <th>299</th>\n",
       "      <td>\\n“Cock up yuh bumper, sit down pon it” is a W...</td>\n",
       "      <td>This is a pitched-up sample from Popcaan’s ”Lu...</td>\n",
       "      <td>0.14</td>\n",
       "      <td>0.038230</td>\n",
       "      <td>0.144000</td>\n",
       "      <td>0.807832</td>\n",
       "    </tr>\n",
       "  </tbody>\n",
       "</table>\n",
       "<p>300 rows × 6 columns</p>\n",
       "</div>"
      ],
      "text/plain": [
       "                                              response  \\\n",
       "0    \\nDrake has a long history of conflicts. Chris...   \n",
       "1    \\nMeek has been fighting off tensions between ...   \n",
       "2    \\nDrake doesn’t want to be a booty call in the...   \n",
       "3    \\nDrake is referencing how the general public ...   \n",
       "4    \\nDrake may be referring to his late OVO affil...   \n",
       "..                                                 ...   \n",
       "295  \\nThe bumper is the trim around the wheels of ...   \n",
       "296  \\nDrake’s former girlfriend has been with anot...   \n",
       "297  \\nDrake wants to fix their relationship, so he...   \n",
       "298  \\nInstead of allowing Rihanna to have her say ...   \n",
       "299  \\n“Cock up yuh bumper, sit down pon it” is a W...   \n",
       "\n",
       "                                             reference  \\\n",
       "0    Drake has a long history of conflicts. Chris B...   \n",
       "1    Although Drake squashed his major beef​, he’s ...   \n",
       "2    Drake doesn’t want to be a booty call in the m...   \n",
       "3    Drake is referencing how the general public co...   \n",
       "4    Drake may be referring to his late OVO affilia...   \n",
       "..                                                 ...   \n",
       "295  This line is straight from Popcaan’s 2014 song...   \n",
       "296  Drake knows this girl has another man she’s se...   \n",
       "297  The things Drake wants from the relationship a...   \n",
       "298  Despite all the points Drizzy has made about h...   \n",
       "299  This is a pitched-up sample from Popcaan’s ”Lu...   \n",
       "\n",
       "     factual_correctness(mode=f1)  bleu_score  rouge_score(mode=fmeasure)  \\\n",
       "0                            1.00    1.000000                    0.793750   \n",
       "1                            0.00    0.014712                    0.091954   \n",
       "2                            1.00    1.000000                    1.000000   \n",
       "3                            1.00    1.000000                    1.000000   \n",
       "4                            0.22    1.000000                    0.201493   \n",
       "..                            ...         ...                         ...   \n",
       "295                          0.00    0.000182                    0.149733   \n",
       "296                          0.17    0.003824                    0.168421   \n",
       "297                          0.00    0.079559                    0.240000   \n",
       "298                          0.17    0.007284                    0.217391   \n",
       "299                          0.14    0.038230                    0.144000   \n",
       "\n",
       "     semantic_similarity  \n",
       "0               0.977184  \n",
       "1               0.839520  \n",
       "2               0.998880  \n",
       "3               0.999034  \n",
       "4               0.883299  \n",
       "..                   ...  \n",
       "295             0.857132  \n",
       "296             0.916183  \n",
       "297             0.868439  \n",
       "298             0.873039  \n",
       "299             0.807832  \n",
       "\n",
       "[300 rows x 6 columns]"
      ]
     },
     "execution_count": 19,
     "metadata": {},
     "output_type": "execute_result"
    }
   ],
   "source": [
    "results.to_pandas()"
   ]
  },
  {
   "cell_type": "code",
   "execution_count": null,
   "id": "bea401fc",
   "metadata": {},
   "outputs": [],
   "source": []
  }
 ],
 "metadata": {
  "kernelspec": {
   "display_name": "DL",
   "language": "python",
   "name": "python3"
  },
  "language_info": {
   "codemirror_mode": {
    "name": "ipython",
    "version": 3
   },
   "file_extension": ".py",
   "mimetype": "text/x-python",
   "name": "python",
   "nbconvert_exporter": "python",
   "pygments_lexer": "ipython3",
   "version": "3.9.18"
  }
 },
 "nbformat": 4,
 "nbformat_minor": 5
}
