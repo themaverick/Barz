{
 "cells": [
  {
   "cell_type": "code",
   "execution_count": 2,
   "id": "cd828466",
   "metadata": {},
   "outputs": [],
   "source": [
    "import json\n",
    "import os\n",
    "from dotenv import load_dotenv"
   ]
  },
  {
   "cell_type": "code",
   "execution_count": 3,
   "id": "48c6ecd2",
   "metadata": {},
   "outputs": [
    {
     "data": {
      "text/plain": [
       "True"
      ]
     },
     "execution_count": 3,
     "metadata": {},
     "output_type": "execute_result"
    }
   ],
   "source": [
    "load_dotenv()"
   ]
  },
  {
   "cell_type": "code",
   "execution_count": 4,
   "id": "e35f8c72",
   "metadata": {},
   "outputs": [],
   "source": [
    "os.environ[\"OPENAI_API_KEY\"] = os.getenv(\"OPENAI_API_KEY\")"
   ]
  },
  {
   "cell_type": "code",
   "execution_count": 7,
   "id": "895a1cfc",
   "metadata": {},
   "outputs": [],
   "source": [
    "from ragas.llms import LangchainLLMWrapper\n",
    "from ragas.embeddings import LangchainEmbeddingsWrapper\n",
    "from langchain_openai import ChatOpenAI\n",
    "from langchain_openai import OpenAIEmbeddings"
   ]
  },
  {
   "cell_type": "code",
   "execution_count": 8,
   "id": "c796f1b6",
   "metadata": {},
   "outputs": [],
   "source": [
    "evaluator_llm = LangchainLLMWrapper(ChatOpenAI(model=\"gpt-4o-mini\"))\n",
    "evaluator_embeddings = LangchainEmbeddingsWrapper(OpenAIEmbeddings())"
   ]
  },
  {
   "cell_type": "code",
   "execution_count": 45,
   "id": "48a8db5e",
   "metadata": {},
   "outputs": [],
   "source": [
    "from ragas.metrics import SemanticSimilarity, BleuScore, RougeScore, SemanticSimilarity\n",
    "from ragas.dataset_schema import SingleTurnSample\n",
    "from ragas.embeddings import LangchainEmbeddingsWrapper\n",
    "from ragas.metrics._factual_correctness import FactualCorrectness"
   ]
  },
  {
   "cell_type": "code",
   "execution_count": 28,
   "id": "f8ca5af6",
   "metadata": {},
   "outputs": [],
   "source": [
    "from datasets import load_dataset, Dataset\n",
    "from ragas import EvaluationDataset"
   ]
  },
  {
   "cell_type": "code",
   "execution_count": 14,
   "id": "c7bdce8f",
   "metadata": {},
   "outputs": [],
   "source": [
    "with open('../dataset/eval_dset.json', 'r') as f:\n",
    "  eval_dset = json.load(f)"
   ]
  },
  {
   "cell_type": "code",
   "execution_count": 15,
   "id": "73ac2dd0",
   "metadata": {},
   "outputs": [
    {
     "data": {
      "text/plain": [
       "dict_keys(['input', 'reference', 'prediction'])"
      ]
     },
     "execution_count": 15,
     "metadata": {},
     "output_type": "execute_result"
    }
   ],
   "source": [
    "eval_dset[0].keys()"
   ]
  },
  {
   "cell_type": "code",
   "execution_count": null,
   "id": "26fdab8b",
   "metadata": {},
   "outputs": [],
   "source": [
    "key_map = {\"prediction\": \"response\", \n",
    "           \"reference\": \"reference\"}\n",
    "\n",
    "ragas_dset = [\n",
    "    {key_map[k]: v for k, v in item.items() if k in key_map.keys()}\n",
    "    for item in eval_dset\n",
    "]\n"
   ]
  },
  {
   "cell_type": "code",
   "execution_count": 34,
   "id": "4f10e8fb",
   "metadata": {},
   "outputs": [],
   "source": [
    "dataset = Dataset.from_list(ragas_dset)"
   ]
  },
  {
   "cell_type": "code",
   "execution_count": 35,
   "id": "071aefc6",
   "metadata": {},
   "outputs": [
    {
     "data": {
      "text/plain": [
       "Dataset({\n",
       "    features: ['reference', 'response'],\n",
       "    num_rows: 4324\n",
       "})"
      ]
     },
     "execution_count": 35,
     "metadata": {},
     "output_type": "execute_result"
    }
   ],
   "source": [
    "dataset"
   ]
  },
  {
   "cell_type": "code",
   "execution_count": 36,
   "id": "aac1ba89",
   "metadata": {},
   "outputs": [
    {
     "data": {
      "text/plain": [
       "['response', 'reference']"
      ]
     },
     "execution_count": 36,
     "metadata": {},
     "output_type": "execute_result"
    }
   ],
   "source": [
    "eval_dataset = EvaluationDataset.from_hf_dataset(dataset)\n",
    "\n",
    "eval_dataset.features()"
   ]
  },
  {
   "cell_type": "code",
   "execution_count": 39,
   "id": "495ab7e3",
   "metadata": {},
   "outputs": [
    {
     "data": {
      "text/plain": [
       "EvaluationDataset(features=['response', 'reference'], len=500)"
      ]
     },
     "execution_count": 39,
     "metadata": {},
     "output_type": "execute_result"
    }
   ],
   "source": [
    "eval_dataset[:500]"
   ]
  },
  {
   "cell_type": "code",
   "execution_count": 40,
   "id": "1a2adf9c",
   "metadata": {},
   "outputs": [],
   "source": [
    "from ragas import evaluate"
   ]
  },
  {
   "cell_type": "code",
   "execution_count": 63,
   "id": "0fef4ea9",
   "metadata": {},
   "outputs": [],
   "source": [
    "metric1 = FactualCorrectness(llm = evaluator_llm)\n",
    "metric2 = BleuScore()\n",
    "metric3 = RougeScore()\n",
    "metric4 = SemanticSimilarity()"
   ]
  },
  {
   "cell_type": "code",
   "execution_count": 67,
   "id": "8d84cb97",
   "metadata": {},
   "outputs": [
    {
     "data": {
      "application/vnd.jupyter.widget-view+json": {
       "model_id": "ba6658d417924999a0cb9c4729ffbc8c",
       "version_major": 2,
       "version_minor": 0
      },
      "text/plain": [
       "Evaluating:   0%|          | 0/1200 [00:00<?, ?it/s]"
      ]
     },
     "metadata": {},
     "output_type": "display_data"
    }
   ],
   "source": [
    "results = evaluate(eval_dataset[:300], metrics = [metric1, metric2, metric3, metric4])\n",
    "\n",
    "results.to_pandas().to_csv(path_or_buf=  \"../results/data/zeroshot.csv\", index = False)"
   ]
  },
  {
   "cell_type": "code",
   "execution_count": 66,
   "id": "ba8bb854",
   "metadata": {},
   "outputs": [
    {
     "data": {
      "text/plain": [
       "{'factual_correctness(mode=f1)': 0.1255, 'bleu_score': 0.0332, 'rouge_score(mode=fmeasure)': 0.1020}"
      ]
     },
     "execution_count": 66,
     "metadata": {},
     "output_type": "execute_result"
    },
    {
     "name": "stderr",
     "output_type": "stream",
     "text": [
      "ERROR:ragas.executor:Exception raised in Job[63]: AssertionError(Error: 'semantic_similarity' requires embeddings to be set.)\n",
      "ERROR:ragas.executor:Exception raised in Job[67]: AssertionError(Error: 'semantic_similarity' requires embeddings to be set.)\n",
      "ERROR:ragas.executor:Exception raised in Job[71]: AssertionError(Error: 'semantic_similarity' requires embeddings to be set.)\n",
      "ERROR:ragas.executor:Exception raised in Job[75]: AssertionError(Error: 'semantic_similarity' requires embeddings to be set.)\n",
      "ERROR:ragas.executor:Exception raised in Job[79]: AssertionError(Error: 'semantic_similarity' requires embeddings to be set.)\n",
      "ERROR:ragas.executor:Exception raised in Job[83]: AssertionError(Error: 'semantic_similarity' requires embeddings to be set.)\n",
      "ERROR:ragas.executor:Exception raised in Job[87]: AssertionError(Error: 'semantic_similarity' requires embeddings to be set.)\n",
      "ERROR:ragas.executor:Exception raised in Job[91]: AssertionError(Error: 'semantic_similarity' requires embeddings to be set.)\n",
      "ERROR:ragas.executor:Exception raised in Job[95]: AssertionError(Error: 'semantic_similarity' requires embeddings to be set.)\n",
      "ERROR:ragas.executor:Exception raised in Job[99]: AssertionError(Error: 'semantic_similarity' requires embeddings to be set.)\n",
      "ERROR:ragas.executor:Exception raised in Job[103]: AssertionError(Error: 'semantic_similarity' requires embeddings to be set.)\n",
      "ERROR:ragas.executor:Exception raised in Job[107]: AssertionError(Error: 'semantic_similarity' requires embeddings to be set.)\n",
      "ERROR:ragas.executor:Exception raised in Job[111]: AssertionError(Error: 'semantic_similarity' requires embeddings to be set.)\n",
      "ERROR:ragas.executor:Exception raised in Job[115]: AssertionError(Error: 'semantic_similarity' requires embeddings to be set.)\n",
      "ERROR:ragas.executor:Exception raised in Job[119]: AssertionError(Error: 'semantic_similarity' requires embeddings to be set.)\n",
      "ERROR:ragas.executor:Exception raised in Job[123]: AssertionError(Error: 'semantic_similarity' requires embeddings to be set.)\n",
      "ERROR:ragas.executor:Exception raised in Job[127]: AssertionError(Error: 'semantic_similarity' requires embeddings to be set.)\n",
      "ERROR:ragas.executor:Exception raised in Job[131]: AssertionError(Error: 'semantic_similarity' requires embeddings to be set.)\n",
      "ERROR:ragas.executor:Exception raised in Job[135]: AssertionError(Error: 'semantic_similarity' requires embeddings to be set.)\n"
     ]
    }
   ],
   "source": [
    "results"
   ]
  },
  {
   "cell_type": "code",
   "execution_count": 70,
   "id": "a4a577f1",
   "metadata": {},
   "outputs": [
    {
     "data": {
      "text/html": [
       "<div>\n",
       "<style scoped>\n",
       "    .dataframe tbody tr th:only-of-type {\n",
       "        vertical-align: middle;\n",
       "    }\n",
       "\n",
       "    .dataframe tbody tr th {\n",
       "        vertical-align: top;\n",
       "    }\n",
       "\n",
       "    .dataframe thead th {\n",
       "        text-align: right;\n",
       "    }\n",
       "</style>\n",
       "<table border=\"1\" class=\"dataframe\">\n",
       "  <thead>\n",
       "    <tr style=\"text-align: right;\">\n",
       "      <th></th>\n",
       "      <th>response</th>\n",
       "      <th>reference</th>\n",
       "      <th>factual_correctness(mode=f1)</th>\n",
       "      <th>bleu_score</th>\n",
       "      <th>rouge_score(mode=fmeasure)</th>\n",
       "      <th>semantic_similarity</th>\n",
       "    </tr>\n",
       "  </thead>\n",
       "  <tbody>\n",
       "    <tr>\n",
       "      <th>0</th>\n",
       "      <td>They wishin' on me, yuh.</td>\n",
       "      <td>Drake has a long history of conflicts. Chris B...</td>\n",
       "      <td>0.00</td>\n",
       "      <td>0.078098</td>\n",
       "      <td>0.014493</td>\n",
       "      <td>0.731230</td>\n",
       "    </tr>\n",
       "    <tr>\n",
       "      <th>1</th>\n",
       "      <td>They wish on me.</td>\n",
       "      <td>Although Drake squashed his major beef​, he’s ...</td>\n",
       "      <td>0.00</td>\n",
       "      <td>0.000385</td>\n",
       "      <td>0.014815</td>\n",
       "      <td>0.701291</td>\n",
       "    </tr>\n",
       "    <tr>\n",
       "      <th>2</th>\n",
       "      <td>They wishin' on me, yuh</td>\n",
       "      <td>Drake doesn’t want to be a booty call in the m...</td>\n",
       "      <td>0.00</td>\n",
       "      <td>0.014457</td>\n",
       "      <td>0.019608</td>\n",
       "      <td>0.728761</td>\n",
       "    </tr>\n",
       "    <tr>\n",
       "      <th>3</th>\n",
       "      <td>I don't wanna die for them to miss me</td>\n",
       "      <td>Drake is referencing how the general public co...</td>\n",
       "      <td>0.00</td>\n",
       "      <td>0.038686</td>\n",
       "      <td>0.041096</td>\n",
       "      <td>0.764402</td>\n",
       "    </tr>\n",
       "    <tr>\n",
       "      <th>4</th>\n",
       "      <td>They wishin' on me, yuh.</td>\n",
       "      <td>Drake may be referring to his late OVO affilia...</td>\n",
       "      <td>0.00</td>\n",
       "      <td>0.023894</td>\n",
       "      <td>0.017699</td>\n",
       "      <td>0.731211</td>\n",
       "    </tr>\n",
       "    <tr>\n",
       "      <th>...</th>\n",
       "      <td>...</td>\n",
       "      <td>...</td>\n",
       "      <td>...</td>\n",
       "      <td>...</td>\n",
       "      <td>...</td>\n",
       "      <td>...</td>\n",
       "    </tr>\n",
       "    <tr>\n",
       "      <th>295</th>\n",
       "      <td>The snippet is about the speaker's feelings of...</td>\n",
       "      <td>This line is straight from Popcaan’s 2014 song...</td>\n",
       "      <td>0.15</td>\n",
       "      <td>0.005223</td>\n",
       "      <td>0.162963</td>\n",
       "      <td>0.736112</td>\n",
       "    </tr>\n",
       "    <tr>\n",
       "      <th>296</th>\n",
       "      <td>You got somebody other than me\\nDon't play the...</td>\n",
       "      <td>Drake knows this girl has another man she’s se...</td>\n",
       "      <td>0.46</td>\n",
       "      <td>0.019297</td>\n",
       "      <td>0.107692</td>\n",
       "      <td>0.830494</td>\n",
       "    </tr>\n",
       "    <tr>\n",
       "      <th>297</th>\n",
       "      <td>The snippet \"And I wanna tell you my intention...</td>\n",
       "      <td>The things Drake wants from the relationship a...</td>\n",
       "      <td>0.22</td>\n",
       "      <td>0.016209</td>\n",
       "      <td>0.142857</td>\n",
       "      <td>0.787761</td>\n",
       "    </tr>\n",
       "    <tr>\n",
       "      <th>298</th>\n",
       "      <td>I put my hands around you\\nGotta get a handle ...</td>\n",
       "      <td>Despite all the points Drizzy has made about h...</td>\n",
       "      <td>0.33</td>\n",
       "      <td>0.011205</td>\n",
       "      <td>0.166667</td>\n",
       "      <td>0.808144</td>\n",
       "    </tr>\n",
       "    <tr>\n",
       "      <th>299</th>\n",
       "      <td>The snippet can be broken down as follows:\\n\\n...</td>\n",
       "      <td>This is a pitched-up sample from Popcaan’s ”Lu...</td>\n",
       "      <td>0.00</td>\n",
       "      <td>0.018565</td>\n",
       "      <td>0.065574</td>\n",
       "      <td>0.749137</td>\n",
       "    </tr>\n",
       "  </tbody>\n",
       "</table>\n",
       "<p>300 rows × 6 columns</p>\n",
       "</div>"
      ],
      "text/plain": [
       "                                              response  \\\n",
       "0                             They wishin' on me, yuh.   \n",
       "1                                     They wish on me.   \n",
       "2                              They wishin' on me, yuh   \n",
       "3                I don't wanna die for them to miss me   \n",
       "4                             They wishin' on me, yuh.   \n",
       "..                                                 ...   \n",
       "295  The snippet is about the speaker's feelings of...   \n",
       "296  You got somebody other than me\\nDon't play the...   \n",
       "297  The snippet \"And I wanna tell you my intention...   \n",
       "298  I put my hands around you\\nGotta get a handle ...   \n",
       "299  The snippet can be broken down as follows:\\n\\n...   \n",
       "\n",
       "                                             reference  \\\n",
       "0    Drake has a long history of conflicts. Chris B...   \n",
       "1    Although Drake squashed his major beef​, he’s ...   \n",
       "2    Drake doesn’t want to be a booty call in the m...   \n",
       "3    Drake is referencing how the general public co...   \n",
       "4    Drake may be referring to his late OVO affilia...   \n",
       "..                                                 ...   \n",
       "295  This line is straight from Popcaan’s 2014 song...   \n",
       "296  Drake knows this girl has another man she’s se...   \n",
       "297  The things Drake wants from the relationship a...   \n",
       "298  Despite all the points Drizzy has made about h...   \n",
       "299  This is a pitched-up sample from Popcaan’s ”Lu...   \n",
       "\n",
       "     factual_correctness(mode=f1)  bleu_score  rouge_score(mode=fmeasure)  \\\n",
       "0                            0.00    0.078098                    0.014493   \n",
       "1                            0.00    0.000385                    0.014815   \n",
       "2                            0.00    0.014457                    0.019608   \n",
       "3                            0.00    0.038686                    0.041096   \n",
       "4                            0.00    0.023894                    0.017699   \n",
       "..                            ...         ...                         ...   \n",
       "295                          0.15    0.005223                    0.162963   \n",
       "296                          0.46    0.019297                    0.107692   \n",
       "297                          0.22    0.016209                    0.142857   \n",
       "298                          0.33    0.011205                    0.166667   \n",
       "299                          0.00    0.018565                    0.065574   \n",
       "\n",
       "     semantic_similarity  \n",
       "0               0.731230  \n",
       "1               0.701291  \n",
       "2               0.728761  \n",
       "3               0.764402  \n",
       "4               0.731211  \n",
       "..                   ...  \n",
       "295             0.736112  \n",
       "296             0.830494  \n",
       "297             0.787761  \n",
       "298             0.808144  \n",
       "299             0.749137  \n",
       "\n",
       "[300 rows x 6 columns]"
      ]
     },
     "execution_count": 70,
     "metadata": {},
     "output_type": "execute_result"
    }
   ],
   "source": [
    "results.to_pandas()"
   ]
  },
  {
   "cell_type": "code",
   "execution_count": 71,
   "id": "74ada179",
   "metadata": {},
   "outputs": [
    {
     "data": {
      "text/plain": [
       "{'factual_correctness(mode=f1)': 0.1182, 'bleu_score': 0.0332, 'rouge_score(mode=fmeasure)': 0.1020, 'semantic_similarity': 0.7965}"
      ]
     },
     "execution_count": 71,
     "metadata": {},
     "output_type": "execute_result"
    }
   ],
   "source": [
    "results"
   ]
  },
  {
   "cell_type": "code",
   "execution_count": null,
   "id": "bea401fc",
   "metadata": {},
   "outputs": [],
   "source": []
  }
 ],
 "metadata": {
  "kernelspec": {
   "display_name": "DL",
   "language": "python",
   "name": "python3"
  },
  "language_info": {
   "codemirror_mode": {
    "name": "ipython",
    "version": 3
   },
   "file_extension": ".py",
   "mimetype": "text/x-python",
   "name": "python",
   "nbconvert_exporter": "python",
   "pygments_lexer": "ipython3",
   "version": "3.9.18"
  }
 },
 "nbformat": 4,
 "nbformat_minor": 5
}
