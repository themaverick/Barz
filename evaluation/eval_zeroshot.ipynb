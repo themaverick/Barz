{
 "cells": [
  {
   "cell_type": "code",
   "execution_count": 2,
   "id": "cd828466",
   "metadata": {},
   "outputs": [],
   "source": [
    "import json\n",
    "import os\n",
    "from dotenv import load_dotenv"
   ]
  },
  {
   "cell_type": "code",
   "execution_count": 3,
   "id": "48c6ecd2",
   "metadata": {},
   "outputs": [
    {
     "data": {
      "text/plain": [
       "True"
      ]
     },
     "execution_count": 3,
     "metadata": {},
     "output_type": "execute_result"
    }
   ],
   "source": [
    "load_dotenv()"
   ]
  },
  {
   "cell_type": "code",
   "execution_count": 4,
   "id": "e35f8c72",
   "metadata": {},
   "outputs": [],
   "source": [
    "os.environ[\"OPENAI_API_KEY\"] = os.getenv(\"OPENAI_API_KEY\")"
   ]
  },
  {
   "cell_type": "code",
   "execution_count": 7,
   "id": "895a1cfc",
   "metadata": {},
   "outputs": [],
   "source": [
    "from ragas.llms import LangchainLLMWrapper\n",
    "from ragas.embeddings import LangchainEmbeddingsWrapper\n",
    "from langchain_openai import ChatOpenAI\n",
    "from langchain_openai import OpenAIEmbeddings"
   ]
  },
  {
   "cell_type": "code",
   "execution_count": 8,
   "id": "c796f1b6",
   "metadata": {},
   "outputs": [],
   "source": [
    "evaluator_llm = LangchainLLMWrapper(ChatOpenAI(model=\"gpt-4o-mini\"))\n",
    "evaluator_embeddings = LangchainEmbeddingsWrapper(OpenAIEmbeddings())"
   ]
  },
  {
   "cell_type": "code",
   "execution_count": 45,
   "id": "48a8db5e",
   "metadata": {},
   "outputs": [],
   "source": [
    "from ragas.metrics import SemanticSimilarity, BleuScore, RougeScore, SemanticSimilarity\n",
    "from ragas.dataset_schema import SingleTurnSample\n",
    "from ragas.embeddings import LangchainEmbeddingsWrapper\n",
    "from ragas.metrics._factual_correctness import FactualCorrectness"
   ]
  },
  {
   "cell_type": "code",
   "execution_count": 28,
   "id": "f8ca5af6",
   "metadata": {},
   "outputs": [],
   "source": [
    "from datasets import load_dataset, Dataset\n",
    "from ragas import EvaluationDataset"
   ]
  },
  {
   "cell_type": "code",
   "execution_count": 14,
   "id": "c7bdce8f",
   "metadata": {},
   "outputs": [],
   "source": [
    "with open('../dataset/eval_dset.json', 'r') as f:\n",
    "  eval_dset = json.load(f)"
   ]
  },
  {
   "cell_type": "code",
   "execution_count": 15,
   "id": "73ac2dd0",
   "metadata": {},
   "outputs": [
    {
     "data": {
      "text/plain": [
       "dict_keys(['input', 'reference', 'prediction'])"
      ]
     },
     "execution_count": 15,
     "metadata": {},
     "output_type": "execute_result"
    }
   ],
   "source": [
    "eval_dset[0].keys()"
   ]
  },
  {
   "cell_type": "code",
   "execution_count": null,
   "id": "26fdab8b",
   "metadata": {},
   "outputs": [],
   "source": [
    "key_map = {\"prediction\": \"response\", \n",
    "           \"reference\": \"reference\"}\n",
    "\n",
    "ragas_dset = [\n",
    "    {key_map[k]: v for k, v in item.items() if k in key_map.keys()}\n",
    "    for item in eval_dset\n",
    "]\n"
   ]
  },
  {
   "cell_type": "code",
   "execution_count": 34,
   "id": "4f10e8fb",
   "metadata": {},
   "outputs": [],
   "source": [
    "dataset = Dataset.from_list(ragas_dset)"
   ]
  },
  {
   "cell_type": "code",
   "execution_count": 35,
   "id": "071aefc6",
   "metadata": {},
   "outputs": [
    {
     "data": {
      "text/plain": [
       "Dataset({\n",
       "    features: ['reference', 'response'],\n",
       "    num_rows: 4324\n",
       "})"
      ]
     },
     "execution_count": 35,
     "metadata": {},
     "output_type": "execute_result"
    }
   ],
   "source": [
    "dataset"
   ]
  },
  {
   "cell_type": "code",
   "execution_count": 36,
   "id": "aac1ba89",
   "metadata": {},
   "outputs": [
    {
     "data": {
      "text/plain": [
       "['response', 'reference']"
      ]
     },
     "execution_count": 36,
     "metadata": {},
     "output_type": "execute_result"
    }
   ],
   "source": [
    "eval_dataset = EvaluationDataset.from_hf_dataset(dataset)\n",
    "\n",
    "eval_dataset.features()"
   ]
  },
  {
   "cell_type": "code",
   "execution_count": 39,
   "id": "495ab7e3",
   "metadata": {},
   "outputs": [
    {
     "data": {
      "text/plain": [
       "EvaluationDataset(features=['response', 'reference'], len=500)"
      ]
     },
     "execution_count": 39,
     "metadata": {},
     "output_type": "execute_result"
    }
   ],
   "source": [
    "eval_dataset[:500]"
   ]
  },
  {
   "cell_type": "code",
   "execution_count": 40,
   "id": "1a2adf9c",
   "metadata": {},
   "outputs": [],
   "source": [
    "from ragas import evaluate"
   ]
  },
  {
   "cell_type": "code",
   "execution_count": 49,
   "id": "0fef4ea9",
   "metadata": {},
   "outputs": [],
   "source": [
    "metric1 = FactualCorrectness(llm = evaluator_llm)\n",
    "metric2 = BleuScore()\n",
    "metric3 = RougeScore()"
   ]
  },
  {
   "cell_type": "code",
   "execution_count": 50,
   "id": "8d84cb97",
   "metadata": {},
   "outputs": [
    {
     "data": {
      "application/vnd.jupyter.widget-view+json": {
       "model_id": "6e59b905359b4af58da6af7e63ed98d4",
       "version_major": 2,
       "version_minor": 0
      },
      "text/plain": [
       "Evaluating:   0%|          | 0/30 [00:00<?, ?it/s]"
      ]
     },
     "metadata": {},
     "output_type": "display_data"
    }
   ],
   "source": [
    "results = evaluate(eval_dataset[:10], metrics = [metric1, metric2, metric3])"
   ]
  },
  {
   "cell_type": "code",
   "execution_count": 51,
   "id": "ba8bb854",
   "metadata": {},
   "outputs": [
    {
     "data": {
      "text/plain": [
       "{'factual_correctness(mode=f1)': 0.0700, 'bleu_score': 0.0287, 'rouge_score(mode=fmeasure)': 0.0362}"
      ]
     },
     "execution_count": 51,
     "metadata": {},
     "output_type": "execute_result"
    }
   ],
   "source": [
    "results"
   ]
  },
  {
   "cell_type": "code",
   "execution_count": null,
   "id": "6fcb1c0e",
   "metadata": {},
   "outputs": [],
   "source": []
  }
 ],
 "metadata": {
  "kernelspec": {
   "display_name": "DL",
   "language": "python",
   "name": "python3"
  },
  "language_info": {
   "codemirror_mode": {
    "name": "ipython",
    "version": 3
   },
   "file_extension": ".py",
   "mimetype": "text/x-python",
   "name": "python",
   "nbconvert_exporter": "python",
   "pygments_lexer": "ipython3",
   "version": "3.9.18"
  }
 },
 "nbformat": 4,
 "nbformat_minor": 5
}
